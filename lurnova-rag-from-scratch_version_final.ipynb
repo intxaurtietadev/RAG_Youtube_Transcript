{
 "cells": [
  {
   "cell_type": "markdown",
   "id": "90b9fb58",
   "metadata": {},
   "source": [
    "# RAG\n",
    "\n",
    "A continuación se muestra una descripción general de alto nivel del sistema que queremos construir:\n"
   ]
  },
  {
   "cell_type": "markdown",
   "id": "e5937816",
   "metadata": {},
   "source": [
    "<img src='images/img_1.png' width=\"800\">"
   ]
  },
  {
   "cell_type": "markdown",
   "id": "635ce91d",
   "metadata": {},
   "source": [
    "# PARTE I"
   ]
  },
  {
   "cell_type": "markdown",
   "id": "47724df3",
   "metadata": {},
   "source": [
    "Empecemos cargando las variables de entorno que necesitamos utilizar."
   ]
  },
  {
   "cell_type": "markdown",
   "id": "aa7757e1",
   "metadata": {},
   "source": [
    "## Setting up the model\n",
    "Definamos el modelo LLM que utilizaremos como parte del flujo de trabajo."
   ]
  },
  {
   "cell_type": "code",
   "execution_count": 4,
   "id": "3f9a9aa1",
   "metadata": {},
   "outputs": [],
   "source": [
    "import os\n",
    "from dotenv import load_dotenv\n",
    "\n",
    "load_dotenv()\n",
    "\n",
    "OPENAI_API_KEY = os.getenv(\"OPENAI_API_KEY\")\n",
    "\n",
    "# This is the YouTube video we're going to use.\n",
    "YOUTUBE_VIDEO = \"https://www.youtube.com/watch?v=jymzFKtMPac\""
   ]
  },
  {
   "cell_type": "code",
   "execution_count": 5,
   "id": "5a37c9e6",
   "metadata": {},
   "outputs": [],
   "source": [
    "from langchain_openai.chat_models import ChatOpenAI\n",
    "\n",
    "model = ChatOpenAI(openai_api_key=OPENAI_API_KEY, model=\"gpt-3.5-turbo\")"
   ]
  },
  {
   "cell_type": "markdown",
   "id": "97a9dadb",
   "metadata": {},
   "source": [
    "Probamos el modelo haciendo una pregunta sencilla"
   ]
  },
  {
   "cell_type": "code",
   "execution_count": 6,
   "id": "abe01acd",
   "metadata": {},
   "outputs": [
    {
     "name": "stdout",
     "output_type": "stream",
     "text": [
      "La capital de Túnez es Túnez.\n"
     ]
    }
   ],
   "source": [
    "pregunta_sencilla = \"¿Cuál es la capital de Túnez?\"\n",
    "respuesta = model.invoke(pregunta_sencilla)\n",
    "\n",
    "# Imprimimos el contenido de la respuesta\n",
    "print(respuesta.content)"
   ]
  },
  {
   "cell_type": "markdown",
   "id": "dd1caccf",
   "metadata": {},
   "source": [
    "El resultado del modelo es una instancia de `AIMessage` que contiene la respuesta. Podemos extraer esta respuesta encadenando el modelo con un analizador de salida [outputParser](https://python.langchain.com/docs/modules/model_io/output_parsers/).\n",
    "\n",
    "Así es como se ve el encadenamiento del modelo con un analizador de salida:\n",
    "\n",
    "<img src='images/chain1.png' width=\"1200\">\n",
    "\n",
    "Para este ejemplo, utilizaremos un `StrOutputParser` simple para extraer la respuesta como una cadena."
   ]
  },
  {
   "cell_type": "code",
   "execution_count": 7,
   "id": "9fbc09eb",
   "metadata": {},
   "outputs": [
    {
     "name": "stdout",
     "output_type": "stream",
     "text": [
      "La capital de Alemania es Berlín.\n",
      "<class 'str'>\n"
     ]
    }
   ],
   "source": [
    "from langchain_core.output_parsers import StrOutputParser\n",
    "\n",
    "#(convertir AIMessage a string)\n",
    "parser = StrOutputParser()\n",
    "\n",
    "# Creamos la cadena simple combinando el modelo y el parser\n",
    "chain = model | parser\n",
    "\n",
    "# Probamos la cadena con la misma pregunta sencilla\n",
    "pregunta_sencilla = \"¿Cuál es la capital de Alemaña?\"\n",
    "respuesta_parseada = chain.invoke(pregunta_sencilla)\n",
    "\n",
    "# Imprimimos la respuesta (ahora debería ser una cadena directamente)\n",
    "print(respuesta_parseada)\n",
    "print(type(respuesta_parseada)) # Para verificar que es un string"
   ]
  },
  {
   "cell_type": "markdown",
   "id": "a7774fab",
   "metadata": {},
   "source": [
    "## Presentamos las plantillas de preguntas\n",
    "\n",
    "Queremos contextualizar el modelo y la pregunta. [Prompt templates](https://python.langchain.com/docs/modules/model_io/prompts/quick_start) Son una forma sencilla de definir y reutilizar indicaciones."
   ]
  },
  {
   "cell_type": "code",
   "execution_count": 8,
   "id": "26969121",
   "metadata": {},
   "outputs": [],
   "source": [
    "from langchain.prompts import ChatPromptTemplate\n",
    "\n",
    "template = \"\"\"\n",
    "Responda la pregunta según el contexto descrito a continuación. Si no puede responder, responda \"No lo sé\".\n",
    "\n",
    "Contexto: {contexto}\n",
    "\n",
    "Pregunta: {pregunta}\n",
    "\"\"\"\n"
   ]
  },
  {
   "cell_type": "markdown",
   "id": "80b42fad",
   "metadata": {},
   "source": [
    "Ahora podemos encadenar el mensaje con el modelo y el analizador de salida.\n",
    "\n",
    "<img src='images/chain2.png' width=\"1200\">"
   ]
  },
  {
   "cell_type": "code",
   "execution_count": 9,
   "id": "d2aeefc3",
   "metadata": {},
   "outputs": [],
   "source": [
    "from langchain_core.runnables import  RunnablePassthrough\n",
    "\n",
    "chain = (\n",
    "         {\n",
    "            \"contexto\": RunnablePassthrough(),\n",
    "            \"pregunta\": RunnablePassthrough()\n",
    "        }\n",
    "        | ChatPromptTemplate.from_template(template)\n",
    "        | model\n",
    "        | parser\n",
    "    )"
   ]
  },
  {
   "cell_type": "markdown",
   "id": "1c2b4a7a",
   "metadata": {},
   "source": [
    "## Combinación de cadenas\n",
    "\n",
    "Podemos combinar diferentes cadenas para crear flujos de trabajo más complejos. Por ejemplo, creemos una segunda cadena que traduzca la respuesta de la primera a otro idioma.\n",
    "\n",
    "Comencemos creando una nueva plantilla de solicitud para la cadena de traducción:"
   ]
  },
  {
   "cell_type": "code",
   "execution_count": 10,
   "id": "708ce5da",
   "metadata": {},
   "outputs": [],
   "source": [
    "translation_prompt = ChatPromptTemplate.from_template(\n",
    "    \"Traduce {answer} al {language}\"\n",
    ")"
   ]
  },
  {
   "cell_type": "markdown",
   "id": "e463b617",
   "metadata": {},
   "source": [
    "Ahora podemos crear una nueva cadena de traducción que combine el resultado de la primera cadena con la solicitud de traducción.\n",
    "\n",
    "Así es como se ve el nuevo flujo de trabajo:\n",
    "\n",
    "<img src='images/chain3.png' width=\"1200\">"
   ]
  },
  {
   "cell_type": "code",
   "execution_count": 11,
   "id": "23a85ac7",
   "metadata": {},
   "outputs": [
    {
     "name": "stdout",
     "output_type": "stream",
     "text": [
      "Respuesta traducida: {'respuesta': 'La capital de Francia es París.', 'idioma': 'Castellano'}\n"
     ]
    }
   ],
   "source": [
    "from operator import itemgetter\n",
    "\n",
    "# Cadena de respuesta usando contexto (primera cadena, ya definida anteriormente)\n",
    "qa_chain = (\n",
    "    {\n",
    "        \"contexto\": RunnablePassthrough(),\n",
    "        \"pregunta\": RunnablePassthrough()\n",
    "    }\n",
    "    | ChatPromptTemplate.from_template(template)\n",
    "    | model\n",
    "    | parser\n",
    ")\n",
    "\n",
    "# Crear la cadena de traducción\n",
    "translation_chain = (\n",
    "    {\n",
    "        \"answer\": RunnablePassthrough(),\n",
    "        \"language\": lambda _: \"Castellano\"  # valor predeterminado\n",
    "    }\n",
    "    | translation_prompt\n",
    "    | model\n",
    "    | parser\n",
    ")\n",
    "\n",
    "# Combinamos ambas cadenas: primero obtenemos la respuesta, luego la traducimos\n",
    "combined_chain = qa_chain | (lambda answer: translation_chain.invoke({\"answer\": answer, \"language\": \"Castellano\"}))\n",
    "\n",
    "# Probemos la cadena combinada\n",
    "respuesta_traducida = combined_chain.invoke({\n",
    "    \"contexto\": \"París es la capital de Francia y una de las ciudades más visitadas del mundo.\",\n",
    "    \"pregunta\": \"¿Cuál es la capital de Francia?\"\n",
    "})\n",
    "\n",
    "print(\"Respuesta traducida:\", respuesta_traducida)"
   ]
  },
  {
   "cell_type": "markdown",
   "id": "1a626276",
   "metadata": {},
   "source": [
    "# PARTE II"
   ]
  },
  {
   "cell_type": "markdown",
   "id": "86072c0b",
   "metadata": {},
   "source": [
    "## Transcripcion de video de YouTube\n",
    "\n",
    "El contexto que queremos enviar al modelo proviene de un video de YouTube. Descargamos el video y transcribámoslo con [OpenAI's Whisper](https://openai.com/research/whisper)."
   ]
  },
  {
   "cell_type": "code",
   "execution_count": 12,
   "id": "58da7d75",
   "metadata": {},
   "outputs": [
    {
     "name": "stdout",
     "output_type": "stream",
     "text": [
      "Downloading video: https://www.youtube.com/watch?v=jymzFKtMPac\n",
      "[youtube] Extracting URL: https://www.youtube.com/watch?v=jymzFKtMPac\n",
      "[youtube] jymzFKtMPac: Downloading webpage\n",
      "[youtube] jymzFKtMPac: Downloading tv client config\n",
      "[youtube] jymzFKtMPac: Downloading player 4fcd6e4a\n",
      "[youtube] jymzFKtMPac: Downloading tv player API JSON\n",
      "[youtube] jymzFKtMPac: Downloading ios player API JSON\n",
      "[youtube] jymzFKtMPac: Downloading m3u8 information\n",
      "[info] jymzFKtMPac: Downloading 1 format(s): 251\n",
      "[download] Destination: /var/folders/fl/0425_ksd7gl2jnqxhr8qwwhw0000gn/T/tmpa1w3hh9o/audio.webm\n",
      "[download] 100% of   15.70MiB in 00:00:00 at 23.79MiB/s    \n",
      "[ExtractAudio] Destination: /var/folders/fl/0425_ksd7gl2jnqxhr8qwwhw0000gn/T/tmpa1w3hh9o/audio.mp3\n",
      "Deleting original file /var/folders/fl/0425_ksd7gl2jnqxhr8qwwhw0000gn/T/tmpa1w3hh9o/audio.webm (pass -k to keep)\n",
      "Transcribing audio file: /var/folders/fl/0425_ksd7gl2jnqxhr8qwwhw0000gn/T/tmpa1w3hh9o/audio.mp3\n",
      "Transcription completed and saved to 'transcription.txt'\n"
     ]
    }
   ],
   "source": [
    "import tempfile\n",
    "import whisper\n",
    "import os\n",
    "import yt_dlp  # Using yt-dlp instead of pytube\n",
    "\n",
    "if not os.path.exists(\"transcription.txt\"):\n",
    "    print(f\"Downloading video: {YOUTUBE_VIDEO}\")\n",
    "    \n",
    "    # Create a temporary directory for the download\n",
    "    with tempfile.TemporaryDirectory() as tmpdir:\n",
    "        # yt-dlp options for downloading audio only\n",
    "        ydl_opts = {\n",
    "            'format': 'bestaudio/best',\n",
    "            'outtmpl': os.path.join(tmpdir, 'audio.%(ext)s'),\n",
    "            'postprocessors': [{\n",
    "                'key': 'FFmpegExtractAudio',\n",
    "                'preferredcodec': 'mp3',\n",
    "                'preferredquality': '192',\n",
    "            }],\n",
    "            'quiet': False\n",
    "        }\n",
    "        \n",
    "        # Download the audio\n",
    "        with yt_dlp.YoutubeDL(ydl_opts) as ydl:\n",
    "            ydl.extract_info(YOUTUBE_VIDEO, download=True)\n",
    "            audio_file = os.path.join(tmpdir, 'audio.mp3')\n",
    "        \n",
    "        print(f\"Transcribing audio file: {audio_file}\")\n",
    "        \n",
    "        # Load Whisper model\n",
    "        whisper_model = whisper.load_model(\"base\")\n",
    "        \n",
    "        # Transcribe the audio\n",
    "        transcription = whisper_model.transcribe(audio_file, fp16=False)[\"text\"].strip()\n",
    "        \n",
    "        # Save the transcription to a file\n",
    "        with open(\"transcription.txt\", \"w\") as file:\n",
    "            file.write(transcription)\n",
    "        \n",
    "        print(\"Transcription completed and saved to 'transcription.txt'\")\n",
    "else:\n",
    "    print(\"Transcription file already exists!\")"
   ]
  },
  {
   "cell_type": "markdown",
   "id": "8ed11719",
   "metadata": {},
   "source": [
    "Vamos a leer la transcripción y mostrar los primeros caracteres para asegurarnos de que todo funciona como se espera."
   ]
  },
  {
   "cell_type": "code",
   "execution_count": 13,
   "id": "43b84e08",
   "metadata": {},
   "outputs": [
    {
     "data": {
      "text/plain": [
       "\"What's really happening in Antarctica? Why was the entire continent suddenly locked down after a US \""
      ]
     },
     "execution_count": 13,
     "metadata": {},
     "output_type": "execute_result"
    }
   ],
   "source": [
    "with open(\"transcription.txt\") as file:\n",
    "    transcription = file.read()\n",
    "\n",
    "transcription[:100]"
   ]
  },
  {
   "cell_type": "markdown",
   "id": "9cf132d2",
   "metadata": {},
   "source": [
    "## Usando la transcripción completa como contexto\n",
    "\n",
    "Si intentamos invocar la cadena usando la transcripción como contexto, el modelo devolverá un error porque el contexto es demasiado largo.\n",
    "\n",
    "Los modelos de lenguaje grandes admiten tamaños de contexto limitados. El vídeo que estamos usando es demasiado largo para que el modelo lo pueda procesar, por lo que necesitamos buscar una solución diferente."
   ]
  },
  {
   "cell_type": "code",
   "execution_count": 14,
   "id": "777c10e3",
   "metadata": {},
   "outputs": [
    {
     "name": "stdout",
     "output_type": "stream",
     "text": [
      "Respuesta: No lo sé.\n"
     ]
    }
   ],
   "source": [
    "# Primero, aseguramos que tengamos la transcripción cargada\n",
    "with open(\"transcription.txt\") as file:\n",
    "    transcription = file.read()\n",
    "\n",
    "# Intentamos usar la transcripción como contexto y guardamos la respuesta\n",
    "try:\n",
    "    respuesta = chain.invoke({\n",
    "        \"contexto\": transcription,\n",
    "        \"pregunta\": \"¿Es una buena idea leer artículos?\"\n",
    "    })\n",
    "    print(\"Respuesta:\", respuesta)\n",
    "except Exception as e:\n",
    "    print(\"Error:\", e)"
   ]
  },
  {
   "cell_type": "markdown",
   "id": "aaf7eb2a",
   "metadata": {},
   "source": [
    "## División de la transcripción\n",
    "\n",
    "Dado que no podemos usar la transcripción completa como contexto para el modelo, una posible solución es dividir la transcripción en fragmentos más pequeños. Así, podemos invocar el modelo utilizando solo los fragmentos relevantes para responder a una pregunta específica:\n",
    "\n",
    "<img src='images/system2.png' width=\"1200\">\n",
    "\n",
    "Comencemos cargando la transcripción en la memoria:"
   ]
  },
  {
   "cell_type": "code",
   "execution_count": 15,
   "id": "01c64157",
   "metadata": {},
   "outputs": [
    {
     "name": "stdout",
     "output_type": "stream",
     "text": [
      "Loaded 1 document\n",
      "Text length: 17825 characters\n"
     ]
    }
   ],
   "source": [
    "from langchain_community.document_loaders import TextLoader\n",
    "\n",
    "# Load the transcription file\n",
    "loader = TextLoader(\"transcription.txt\")\n",
    "documents = loader.load()\n",
    "\n",
    "# Print basic info about the loaded document\n",
    "print(f\"Loaded {len(documents)} document\")\n",
    "print(f\"Text length: {len(documents[0].page_content)} characters\")\n",
    "\n"
   ]
  },
  {
   "cell_type": "markdown",
   "id": "119471d5",
   "metadata": {},
   "source": [
    "Hay muchas maneras de dividir un documento. En este ejemplo, usaremos un divisor simple que divide el documento en fragmentos de tamaño fijo. Consulta [Divisores de texto](https://python.langchain.com/docs/modules/data_connection/document_transformers/) para obtener más información sobre los diferentes enfoques para dividir documentos.\n",
    "\n",
    "A modo de ejemplo, dividiremos la transcripción en fragmentos de 100 caracteres con una superposición de 20 caracteres y mostraremos los primeros fragmentos:"
   ]
  },
  {
   "cell_type": "code",
   "execution_count": 16,
   "id": "5eb96612",
   "metadata": {},
   "outputs": [
    {
     "name": "stdout",
     "output_type": "stream",
     "text": [
      "Split the document into 223 chunks\n",
      "\n",
      "First three chunks:\n",
      "\n",
      "Chunk 1:\n",
      "Length: 99 characters\n",
      "Content: What's really happening in Antarctica? Why was the entire continent suddenly locked down after a US\n",
      "\n",
      "Chunk 2:\n",
      "Length: 95 characters\n",
      "Content: down after a US drone captured something no one was ever supposed to see? Stick around. Because\n",
      "\n",
      "Chunk 3:\n",
      "Length: 98 characters\n",
      "Content: around. Because what we're about to uncover might change everything you thought you knew about the\n"
     ]
    }
   ],
   "source": [
    "from langchain_community.document_loaders import TextLoader\n",
    "from langchain.text_splitter import RecursiveCharacterTextSplitter\n",
    "\n",
    "# First load the document\n",
    "loader = TextLoader(\"transcription.txt\")\n",
    "documents = loader.load()\n",
    "\n",
    "# Create a text splitter with chunk size of 100 and overlap of 20 characters\n",
    "text_splitter = RecursiveCharacterTextSplitter(\n",
    "    chunk_size=100,\n",
    "    chunk_overlap=20,\n",
    "    length_function=len,\n",
    ")\n",
    "\n",
    "# Split the document into chunks\n",
    "chunks = text_splitter.split_documents(documents)\n",
    "\n",
    "# Display information about the chunks\n",
    "print(f\"Split the document into {len(chunks)} chunks\")\n",
    "\n",
    "# Show the first 3 chunks as an example\n",
    "print(\"\\nFirst three chunks:\")\n",
    "for i, chunk in enumerate(chunks[:3]):\n",
    "    print(f\"\\nChunk {i+1}:\")\n",
    "    print(f\"Length: {len(chunk.page_content)} characters\")\n",
    "    print(f\"Content: {chunk.page_content}\")"
   ]
  },
  {
   "cell_type": "markdown",
   "id": "1a0a13c3",
   "metadata": {},
   "source": [
    "Para nuestra aplicación específica, utilizaremos 1000 caracteres en su lugar:"
   ]
  },
  {
   "cell_type": "code",
   "execution_count": 17,
   "id": "7e6aba4e",
   "metadata": {},
   "outputs": [
    {
     "name": "stdout",
     "output_type": "stream",
     "text": [
      "Split the document into 23 chunks\n",
      "\n",
      "First chunk:\n",
      "Length: 999 characters\n",
      "Content: What's really happening in Antarctica? Why was the entire continent suddenly locked down after a US drone captured something no one was ever supposed to see? Stick around. Because what we're about to uncover might change everything you thought you knew about the icy depths of our planet. In January of 2018, an email from a retired naval flight engineer who went by the name of Brian revealed that a US drone had flown over the frozen wasteland of Antarctica and captured something that no one was ever supposed to see. A massive, glowing hole in the ice perfectly round in shape exposed something mysterious beneath the surface. Within hours the entire continent was placed under an immediate lockdown and those who dared to talk about it vanished without a trace. Brian had spent years flying over Antarctica, logging thousands of hours in the sky. But there was one flight in the late 1980s that stood out among all the others, a flight that altered his life forever. As his aircraft soared high\n"
     ]
    }
   ],
   "source": [
    "from langchain.text_splitter import RecursiveCharacterTextSplitter\n",
    "\n",
    "# Create a text splitter with chunk size of 1000 and overlap of 200 characters\n",
    "text_splitter = RecursiveCharacterTextSplitter(\n",
    "    chunk_size=1000,\n",
    "    chunk_overlap=200,\n",
    "    length_function=len,\n",
    ")\n",
    "\n",
    "# Split the document into chunks\n",
    "chunks = text_splitter.split_documents(documents)\n",
    "\n",
    "# Display information about the chunks\n",
    "print(f\"Split the document into {len(chunks)} chunks\")\n",
    "\n",
    "# Show the first chunk as an example\n",
    "if chunks:\n",
    "    print(\"\\nFirst chunk:\")\n",
    "    print(f\"Length: {len(chunks[0].page_content)} characters\")\n",
    "    print(f\"Content: {chunks[0].page_content}\")"
   ]
  },
  {
   "cell_type": "markdown",
   "id": "904b48b5",
   "metadata": {},
   "source": [
    "# PARTE III"
   ]
  },
  {
   "cell_type": "markdown",
   "id": "fb4f0021",
   "metadata": {},
   "source": [
    "## Configuración de un Vector Store\n",
    "\n",
    "Necesitamos una forma eficiente de almacenar fragmentos de documentos, sus Embeddings y realizar búsquedas de similitud a gran escala. Para ello, usaremos un Vector Store.\n",
    "\n",
    "Un Vector Store es una base de datos de Embeddings especializada en búsquedas rápidas de similitud.\n",
    "\n",
    "\n",
    "<img src='images/chain4.png' width=\"1200\">\n",
    "\n",
    "Necesitamos configurar un retriever (https://python.langchain.com/docs/how_to/#retrievers). Este retriever realizará una búsqueda de similitud en el almacén vectorial y devolverá los documentos más similares al siguiente paso de la cadena."
   ]
  },
  {
   "cell_type": "markdown",
   "id": "1e843c56",
   "metadata": {},
   "source": [
    "## Configurar Pinecone\n",
    "\n",
    "Para este ejemplo, usaremos [Pinecone](https://www.pinecone.io/).\n",
    "\n",
    "<img src=\"images/pinecone.png\" width=\"800\">\n",
    "\n",
    "El primer paso es crear una cuenta de Pinecone, configurar un índice, obtener una clave API y configurarla como variable de entorno `PINECONE_API_KEY`."
   ]
  },
  {
   "cell_type": "code",
   "execution_count": 18,
   "id": "170b67ff",
   "metadata": {},
   "outputs": [
    {
     "name": "stderr",
     "output_type": "stream",
     "text": [
      "/Users/oussama/dev/RAG_Presentation/rag-from-scracht/venv/lib/python3.11/site-packages/pinecone/data/index.py:1: TqdmWarning: IProgress not found. Please update jupyter and ipywidgets. See https://ipywidgets.readthedocs.io/en/stable/user_install.html\n",
      "  from tqdm.autonotebook import tqdm\n"
     ]
    },
    {
     "name": "stdout",
     "output_type": "stream",
     "text": [
      "Eliminating existing index 'rag-transcription' to recreate with correct dimensions\n",
      "Created new index 'rag-transcription' with dimension 384\n"
     ]
    },
    {
     "name": "stderr",
     "output_type": "stream",
     "text": [
      "/var/folders/fl/0425_ksd7gl2jnqxhr8qwwhw0000gn/T/ipykernel_50677/1861014624.py:36: LangChainDeprecationWarning: The class `HuggingFaceEmbeddings` was deprecated in LangChain 0.2.2 and will be removed in 1.0. An updated version of the class exists in the langchain-huggingface package and should be used instead. To use it run `pip install -U langchain-huggingface` and import as `from langchain_huggingface import HuggingFaceEmbeddings`.\n",
      "  embeddings = HuggingFaceEmbeddings(model_name=\"all-MiniLM-L6-v2\")\n"
     ]
    },
    {
     "name": "stdout",
     "output_type": "stream",
     "text": [
      "Successfully loaded 23 chunks into Pinecone index 'rag-transcription'\n"
     ]
    }
   ],
   "source": [
    "from langchain_pinecone import PineconeVectorStore\n",
    "from langchain_community.embeddings import HuggingFaceEmbeddings\n",
    "import os\n",
    "from pinecone import Pinecone, ServerlessSpec\n",
    "\n",
    "# Initialize Pinecone\n",
    "PINECONE_API_KEY = os.getenv(\"PINECONE_API_KEY\")\n",
    "\n",
    "# Create Pinecone client\n",
    "pc = Pinecone(api_key=PINECONE_API_KEY)\n",
    "\n",
    "# Create the index name \n",
    "index_name = \"rag-transcription\"\n",
    "\n",
    "# Si el índice existe, lo eliminamos primero para recrearlo con la dimensión correcta\n",
    "if index_name in pc.list_indexes().names():\n",
    "    print(f\"Eliminating existing index '{index_name}' to recreate with correct dimensions\")\n",
    "    pc.delete_index(index_name)\n",
    "    # Esperar un momento para que la eliminación se complete\n",
    "    import time\n",
    "    time.sleep(5)\n",
    "\n",
    "# Create the index with the correct dimensions\n",
    "pc.create_index(\n",
    "    name=index_name,\n",
    "    dimension=384,  # HuggingFace 'all-MiniLM-L6-v2' embeddings have 384 dimensions\n",
    "    metric=\"cosine\",\n",
    "    spec=ServerlessSpec(\n",
    "        cloud=\"aws\",\n",
    "        region=\"us-east-1\"\n",
    "    )\n",
    ")\n",
    "print(f\"Created new index '{index_name}' with dimension 384\")\n",
    "\n",
    "# Initialize HuggingFace embeddings model (no API key needed, runs locally)\n",
    "embeddings = HuggingFaceEmbeddings(model_name=\"all-MiniLM-L6-v2\")\n",
    "\n",
    "# Create the vector store and load the documents\n",
    "vectorstore = PineconeVectorStore.from_documents(\n",
    "    documents=chunks,  # Use your previously created chunks\n",
    "    embedding=embeddings,\n",
    "    index_name=index_name\n",
    ")\n",
    "\n",
    "print(f\"Successfully loaded {len(chunks)} chunks into Pinecone index '{index_name}'\")"
   ]
  },
  {
   "cell_type": "markdown",
   "id": "eee24d4d",
   "metadata": {},
   "source": [
    "Ahora ejecutemos una búsqueda de similitud en pinecone para asegurarnos de que todo funciona:"
   ]
  },
  {
   "cell_type": "code",
   "execution_count": 19,
   "id": "58aff4bd",
   "metadata": {},
   "outputs": [
    {
     "name": "stdout",
     "output_type": "stream",
     "text": [
      "\n",
      "Results for query: What are the main topics discussed in the video?\n",
      "--------------------------------------------------\n",
      "\n",
      "Result 1:\n",
      "forever. Be from Brian's encounter with the glowing hole in the ice to the lost testimonies of Admiral Bird and the frightening reports of military suppression, it's clear that there's far more beneath the surface of this icy continent than meets the eye. What do you think is really going on in Antarctica? What do you believe is being concealed beneath the ice and why? Could it be something extraterrestrial, an ancient civilization, or a government cover-up that stretches beyond imagination? If you enjoyed today's video, please give it a like and don't forget to subscribe to the channel. Your support means a lot to us. Click on the video that appears on your screen right now. I'm sure you'll love this content. Comment below about the next topic you'd like to see featured on our channel. Thank you so much for watching and we'll see you in the next video. Thanks for being with us, leave a comment, like to show your support, and remember to hit that subscribe button for more exciting\n",
      "--------------------------------------------------\n",
      "\n",
      "Result 2:\n",
      "Thank you so much for watching and we'll see you in the next video. Thanks for being with us, leave a comment, like to show your support, and remember to hit that subscribe button for more exciting videos. See you next time.\n",
      "--------------------------------------------------\n",
      "\n",
      "Result 3:\n",
      "Antarctica, logging thousands of hours in the sky. But there was one flight in the late 1980s that stood out among all the others, a flight that altered his life forever. As his aircraft soared high over the icy expanse, Brian and his crew noticed something unusual below. A massive, perfect circle cut into the ice and within that circle a strange, glowing cave appeared to lie beneath the surface. Before they could get any closer, chaos erupted. The plane's navigation system shut down, communication equipment weren't haywire and the aircraft itself became difficult to control. With no other option, Brian's crew had to abandon the mission and head back to base. When they landed, they were met by a group of serious-looking men in dark suits. Every single record of their flight was confiscated and Brian was given a stern warning. Never speak of what they had witnessed. This incident wasn't just an anomaly. It marked the beginning of a string of strange government-mandated cover-ups that\n",
      "--------------------------------------------------\n"
     ]
    }
   ],
   "source": [
    "# Test similarity search\n",
    "query = \"What are the main topics discussed in the video?\"\n",
    "docs = vectorstore.similarity_search(query, k=3)\n",
    "\n",
    "print(\"\\nResults for query:\", query)\n",
    "print(\"-\" * 50)\n",
    "for i, doc in enumerate(docs, 1):\n",
    "    print(f\"\\nResult {i}:\")\n",
    "    print(doc.page_content)\n",
    "    print(\"-\" * 50)"
   ]
  },
  {
   "cell_type": "markdown",
   "id": "f0ccc8de",
   "metadata": {},
   "source": [
    "Configuremos la nueva cadena usando Pinecone como almacén vectorial:"
   ]
  },
  {
   "cell_type": "code",
   "execution_count": 20,
   "id": "85143693",
   "metadata": {},
   "outputs": [
    {
     "name": "stdout",
     "output_type": "stream",
     "text": [
      "\n",
      "Question: What are the key points discussed in the video?\n",
      "\n",
      "Answer: The key points discussed in the video include encounters with a glowing hole in the ice, lost testimonies of Admiral Bird, reports of military suppression, mysterious dark shapes moving inside the glowing hole, malfunctioning of aircraft systems near the hole, military response to the coded message about the hole, deployment of an entire operation to the site, questioning of Brian by a secret government agency, and the deepening secrecy surrounding the bizarre phenomena in Antarctica.\n"
     ]
    }
   ],
   "source": [
    "from langchain_pinecone import PineconeVectorStore\n",
    "from langchain_core.runnables import RunnableParallel, RunnablePassthrough\n",
    "from langchain_openai import ChatOpenAI\n",
    "from langchain_core.prompts import ChatPromptTemplate\n",
    "from langchain_core.output_parsers import StrOutputParser\n",
    "\n",
    "# Create the prompt template\n",
    "template = \"\"\"Answer the following question based on the provided context:\n",
    "\n",
    "Context:\n",
    "{context}\n",
    "\n",
    "Question:\n",
    "{question}\n",
    "\n",
    "Answer the question based on the context provided. If you cannot find the answer in the context, say so.\"\"\"\n",
    "\n",
    "prompt = ChatPromptTemplate.from_template(template)\n",
    "\n",
    "# Create the RAG chain\n",
    "model = ChatOpenAI(temperature=0, model=\"gpt-3.5-turbo\")\n",
    "\n",
    "# Create the chain components\n",
    "chain = (\n",
    "    RunnableParallel(\n",
    "        context=lambda x: vectorstore.similarity_search(x[\"question\"], k=3),\n",
    "        question=RunnablePassthrough()\n",
    "    )\n",
    "    | prompt\n",
    "    | model\n",
    "    | StrOutputParser()\n",
    ")\n",
    "\n",
    "# Test the chain\n",
    "question = \"What are the key points discussed in the video?\"\n",
    "response = chain.invoke({\"question\": question})\n",
    "print(\"\\nQuestion:\", question)\n",
    "print(\"\\nAnswer:\", response)"
   ]
  }
 ],
 "metadata": {
  "kernelspec": {
   "display_name": "Python 3 (ipykernel)",
   "language": "python",
   "name": "python3"
  },
  "language_info": {
   "codemirror_mode": {
    "name": "ipython",
    "version": 3
   },
   "file_extension": ".py",
   "mimetype": "text/x-python",
   "name": "python",
   "nbconvert_exporter": "python",
   "pygments_lexer": "ipython3",
   "version": "3.11.11"
  }
 },
 "nbformat": 4,
 "nbformat_minor": 5
}
