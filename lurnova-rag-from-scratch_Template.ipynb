{
 "cells": [
  {
   "cell_type": "markdown",
   "id": "7f0bb814",
   "metadata": {},
   "source": [
    "# RAG\n",
    "\n",
    "A continuación se muestra una descripción general de alto nivel del sistema que queremos construir:\n"
   ]
  },
  {
   "cell_type": "markdown",
   "id": "31dff98a",
   "metadata": {},
   "source": [
    "<img src='images/img_1.png' width=\"800\">"
   ]
  },
  {
   "cell_type": "markdown",
   "id": "fd650181",
   "metadata": {},
   "source": [
    "# PARTE I"
   ]
  },
  {
   "cell_type": "markdown",
   "id": "e9ad2438",
   "metadata": {},
   "source": [
    "Empecemos cargando las variables de entorno que necesitamos utilizar."
   ]
  },
  {
   "cell_type": "markdown",
   "id": "3e35475b",
   "metadata": {},
   "source": [
    "## Setting up the model\n",
    "Definamos el modelo LLM que utilizaremos como parte del flujo de trabajo."
   ]
  },
  {
   "cell_type": "code",
   "execution_count": 3,
   "id": "c22ed43e",
   "metadata": {},
   "outputs": [],
   "source": [
    "import os\n",
    "from dotenv import load_dotenv\n",
    "\n",
    "\n",
    "load_dotenv()\n",
    "\n",
    "GEMINI_API_KEY = os.getenv(\"GEMINI_API_KEY\")\n",
    "\n",
    "# Este es el video de YouTube que vamos a utilizar.\n",
    "YOUTUBE_VIDEO = \"https://www.youtube.com/watch?v=F8NKVhkZZWI&t=1s\""
   ]
  },
  {
   "cell_type": "code",
   "execution_count": 8,
   "id": "ef919e34",
   "metadata": {},
   "outputs": [],
   "source": [
    "import google.generativeai as genai\n",
    "\n",
    "# Configurar el modelo de Gemini\n",
    "model = genai.GenerativeModel('gemini-1.5-pro')  # Usa el modelo que prefieras"
   ]
  },
  {
   "cell_type": "markdown",
   "id": "5e950151",
   "metadata": {},
   "source": [
    "Probamos el modelo haciendo una pregunta sencilla"
   ]
  },
  {
   "cell_type": "code",
   "execution_count": 9,
   "id": "c24d834a",
   "metadata": {},
   "outputs": [
    {
     "name": "stdout",
     "output_type": "stream",
     "text": [
      "La capital de Francia es París.\n",
      "\n"
     ]
    }
   ],
   "source": [
    "# Probar el modelo con una pregunta sencilla\n",
    "pregunta_sencilla = \"¿Cuál es la capital de Francia?\"\n",
    "respuesta = model.generate_content(pregunta_sencilla)\n",
    "\n",
    "# Imprimir la respuesta\n",
    "print(respuesta.text)"
   ]
  },
  {
   "cell_type": "markdown",
   "id": "bb9c2fea",
   "metadata": {},
   "source": [
    "El resultado del modelo es una instancia de `AIMessage` que contiene la respuesta. Podemos extraer esta respuesta encadenando el modelo con un analizador de salida [outputParser](https://python.langchain.com/docs/modules/model_io/output_parsers/).\n",
    "\n",
    "Así es como se ve el encadenamiento del modelo con un analizador de salida:\n",
    "\n",
    "<img src='images/chain1.png' width=\"1200\">\n",
    "\n",
    "Para este ejemplo, utilizaremos un `StrOutputParser` simple para extraer la respuesta como una cadena."
   ]
  },
  {
   "cell_type": "code",
   "execution_count": 10,
   "id": "b0beeb88",
   "metadata": {},
   "outputs": [
    {
     "name": "stdout",
     "output_type": "stream",
     "text": [
      "Respuesta: La capital de Alemania es Berlín.\n",
      "\n",
      "Tipo de respuesta: <class 'str'>\n"
     ]
    }
   ],
   "source": [
    "from langchain_core.output_parsers import StrOutputParser\n",
    "\n",
    "def gemini_invoke(input_text):\n",
    "    # Verificar si input_text es un diccionario de LangChain\n",
    "    if isinstance(input_text, dict) and \"messages\" in input_text:\n",
    "        # Extraer el contenido del mensaje del usuario\n",
    "        messages = input_text[\"messages\"]\n",
    "        if messages and hasattr(messages[0], \"content\"):\n",
    "            input_text = messages[0].content\n",
    "\n",
    "    # Asegurar que el input sea string\n",
    "    if not isinstance(input_text, str):\n",
    "        input_text = str(input_text)\n",
    "\n",
    "    response = model.generate_content(input_text)  \n",
    "    return response.text\n",
    "\n",
    "\n",
    "# Creamos un analizador de salida (StrOutputParser) para asegurarnos de que la respuesta sea una cadena\n",
    "parser = StrOutputParser()\n",
    "\n",
    "# Creamos la cadena combinando el modelo y el parser\n",
    "chain = gemini_invoke | parser\n",
    "\n",
    "# Probamos la cadena con una pregunta sencilla\n",
    "pregunta_sencilla = \"¿Cuál es la capital de Alemania?\"\n",
    "respuesta_parseada = chain.invoke(pregunta_sencilla)\n",
    "\n",
    "# Imprimimos la respuesta (ahora debería ser una cadena directamente)\n",
    "print(\"Respuesta:\", respuesta_parseada)\n",
    "print(\"Tipo de respuesta:\", type(respuesta_parseada))  # Para verificar que es un string"
   ]
  },
  {
   "cell_type": "markdown",
   "id": "93e848d0",
   "metadata": {},
   "source": [
    "## Presentamos las plantillas de preguntas\n",
    "\n",
    "Queremos contextualizar el modelo y la pregunta. [Prompt templates](https://python.langchain.com/docs/modules/model_io/prompts/quick_start) Son una forma sencilla de definir y reutilizar indicaciones."
   ]
  },
  {
   "cell_type": "code",
   "execution_count": 11,
   "id": "aa35155a",
   "metadata": {},
   "outputs": [
    {
     "name": "stdout",
     "output_type": "stream",
     "text": [
      "Respuesta: París\n",
      "\n"
     ]
    }
   ],
   "source": [
    "from langchain.prompts import ChatPromptTemplate\n",
    "\n",
    "# Definir la plantilla de pregunta\n",
    "template = \"\"\"\n",
    "Responda la pregunta según el contexto descrito a continuación. Si no puede responder, responda \"No lo sé\".\n",
    "\n",
    "Contexto: {contexto}\n",
    "\n",
    "Pregunta: {pregunta}\n",
    "\"\"\"\n",
    "\n",
    "# Crear la plantilla de prompt\n",
    "prompt = ChatPromptTemplate.from_template(template)\n",
    "\n",
    "# Probar la plantilla con un ejemplo\n",
    "contexto_ejemplo = \"París es la capital de Francia y una de las ciudades más visitadas del mundo.\"\n",
    "pregunta_ejemplo = \"¿Cuál es la capital de Francia?\"\n",
    "\n",
    "# Formatear el prompt con los valores de contexto y pregunta\n",
    "formatted_prompt = prompt.format(contexto=contexto_ejemplo, pregunta=pregunta_ejemplo)\n",
    "\n",
    "# Usar el modelo de Gemini para generar una respuesta\n",
    "respuesta = model.generate_content(formatted_prompt)\n",
    "\n",
    "# Imprimir la respuesta\n",
    "print(\"Respuesta:\", respuesta.text)"
   ]
  },
  {
   "cell_type": "markdown",
   "id": "4100f1a9",
   "metadata": {},
   "source": [
    "Ahora podemos encadenar el mensaje con el modelo y el analizador de salida.\n",
    "\n",
    "<img src='images/chain2.png' width=\"1200\">"
   ]
  },
  {
   "cell_type": "code",
   "execution_count": 12,
   "id": "ac2eb9c6",
   "metadata": {},
   "outputs": [],
   "source": [
    "from langchain_core.runnables import RunnableLambda, RunnablePassthrough, RunnableParallel\n",
    "\n",
    "chain = (\n",
    "    RunnableParallel(\n",
    "        contexto=RunnablePassthrough(),\n",
    "        pregunta=RunnablePassthrough()\n",
    "    )\n",
    "    | prompt\n",
    "    | RunnableLambda(gemini_invoke)\n",
    "    | parser\n",
    ")\n"
   ]
  },
  {
   "cell_type": "markdown",
   "id": "e11f36b2",
   "metadata": {},
   "source": [
    "## Combinación de cadenas\n",
    "\n",
    "Podemos combinar diferentes cadenas para crear flujos de trabajo más complejos. Por ejemplo, creemos una segunda cadena que traduzca la respuesta de la primera a otro idioma.\n",
    "\n",
    "Comencemos creando una nueva plantilla de solicitud para la cadena de traducción:"
   ]
  },
  {
   "cell_type": "code",
   "execution_count": 13,
   "id": "fc59531b",
   "metadata": {},
   "outputs": [],
   "source": [
    "translation_prompt = ChatPromptTemplate.from_template(\n",
    "    \"Traduce {answer} al {language}\"\n",
    ")\n"
   ]
  },
  {
   "cell_type": "markdown",
   "id": "1276e2fb",
   "metadata": {},
   "source": [
    "Ahora podemos crear una nueva cadena de traducción que combine el resultado de la primera cadena con la solicitud de traducción.\n",
    "\n",
    "Así es como se ve el nuevo flujo de trabajo:\n",
    "\n",
    "<img src='images/chain3.png' width=\"1200\">"
   ]
  },
  {
   "cell_type": "code",
   "execution_count": 22,
   "id": "5079dc4a",
   "metadata": {},
   "outputs": [
    {
     "name": "stdout",
     "output_type": "stream",
     "text": [
      "París\n"
     ]
    }
   ],
   "source": [
    "from langchain_core.runnables import RunnableLambda, RunnablePassthrough\n",
    "from langchain.prompts import ChatPromptTemplate\n",
    "\n",
    "# Plantilla para asegurar respuestas directas y concisas\n",
    "qa_template = ChatPromptTemplate.from_template(\"\"\"\n",
    "Responde únicamente con la respuesta correcta basada en el contexto.\n",
    "\n",
    "Contexto: {contexto}\n",
    "\n",
    "Pregunta: {pregunta}\n",
    "\n",
    "Devuelve solo la respuesta sin explicaciones ni comentarios adicionales.\n",
    "\"\"\")\n",
    "\n",
    "# Función de invocación con limpieza\n",
    "def clean_gemini_invoke(inputs):\n",
    "    response = gemini_invoke(inputs)  # Llamamos a Gemini\n",
    "    if isinstance(response, dict) and \"text\" in response:\n",
    "        return response[\"text\"].strip()\n",
    "    return response.strip()\n",
    "\n",
    "# Cadena de QA\n",
    "qa_chain = (\n",
    "    {\n",
    "        \"contexto\": RunnablePassthrough(),\n",
    "        \"pregunta\": RunnablePassthrough()\n",
    "    }\n",
    "    | qa_template\n",
    "    | RunnableLambda(clean_gemini_invoke)\n",
    ")\n",
    "\n",
    "# Plantilla de traducción simplificada\n",
    "translation_template = ChatPromptTemplate.from_template(\"\"\"\n",
    "Traduce al {language} el siguiente texto sin modificarlo:\n",
    "\n",
    "{text}\n",
    "Solo devuelve el texto traducido, sin explicaciones ni estructura JSON.\n",
    "\"\"\")\n",
    "\n",
    "# Cadena de traducción asegurando solo texto\n",
    "translation_chain = (\n",
    "    {\n",
    "        \"text\": RunnablePassthrough(),\n",
    "        \"language\": lambda _: \"Castellano\"\n",
    "    }\n",
    "    | translation_template\n",
    "    | RunnableLambda(clean_gemini_invoke)\n",
    ")\n",
    "\n",
    "# Función que encadena QA y traducción\n",
    "def qa_then_translate(inputs):\n",
    "    respuesta_qa = qa_chain.invoke(inputs)  # Obtenemos respuesta en inglés\n",
    "    return translation_chain.invoke({\"text\": respuesta_qa})  # Traducimos solo el texto\n",
    "\n",
    "# Cadena combinada con correcciones\n",
    "combined_chain = RunnableLambda(qa_then_translate)\n",
    "\n",
    "# Prueba final\n",
    "inputs = {\n",
    "    \"contexto\": \"París es la capital de Francia y una de las ciudades más visitadas del mundo.\",\n",
    "    \"pregunta\": \"¿Cuál es la capital de Francia?\"\n",
    "}\n",
    "\n",
    "respuesta_traducida = combined_chain.invoke(inputs)\n",
    "\n",
    "print(respuesta_traducida)  # Eliminamos \"Respuesta traducida:\"\n",
    "\n",
    "\n",
    "\n"
   ]
  },
  {
   "cell_type": "markdown",
   "id": "1a226673",
   "metadata": {},
   "source": [
    "# PARTE II"
   ]
  },
  {
   "cell_type": "markdown",
   "id": "f0366ee9",
   "metadata": {},
   "source": [
    "## Transcripcion de video de YouTube\n",
    "\n",
    "El contexto que queremos enviar al modelo proviene de un video de YouTube. Descargamos el video y transcribámoslo con [OpenAI's Whisper](https://openai.com/research/whisper)."
   ]
  },
  {
   "cell_type": "code",
   "execution_count": null,
   "id": "db966556",
   "metadata": {},
   "outputs": [],
   "source": []
  },
  {
   "cell_type": "markdown",
   "id": "d04e1c9e",
   "metadata": {},
   "source": [
    "Vamos a leer la transcripción y mostrar los primeros caracteres para asegurarnos de que todo funciona como se espera."
   ]
  },
  {
   "cell_type": "code",
   "execution_count": null,
   "id": "09313d5d",
   "metadata": {},
   "outputs": [],
   "source": []
  },
  {
   "cell_type": "markdown",
   "id": "80f7897a",
   "metadata": {},
   "source": [
    "## Usando la transcripción completa como contexto\n",
    "\n",
    "Si intentamos invocar la cadena usando la transcripción como contexto, el modelo devolverá un error porque el contexto es demasiado largo.\n",
    "\n",
    "Los modelos de lenguaje grandes admiten tamaños de contexto limitados. El vídeo que estamos usando es demasiado largo para que el modelo lo pueda procesar, por lo que necesitamos buscar una solución diferente."
   ]
  },
  {
   "cell_type": "code",
   "execution_count": null,
   "id": "b70fd63c",
   "metadata": {},
   "outputs": [],
   "source": []
  },
  {
   "cell_type": "markdown",
   "id": "a670c23f",
   "metadata": {},
   "source": [
    "## División de la transcripción\n",
    "\n",
    "Dado que no podemos usar la transcripción completa como contexto para el modelo, una posible solución es dividir la transcripción en fragmentos más pequeños. Así, podemos invocar el modelo utilizando solo los fragmentos relevantes para responder a una pregunta específica:\n",
    "\n",
    "<img src='images/system2.png' width=\"1200\">\n",
    "\n",
    "Comencemos cargando la transcripción en la memoria:"
   ]
  },
  {
   "cell_type": "code",
   "execution_count": null,
   "id": "553031dd",
   "metadata": {},
   "outputs": [],
   "source": []
  },
  {
   "cell_type": "markdown",
   "id": "4af1708a",
   "metadata": {},
   "source": [
    "Hay muchas maneras de dividir un documento. En este ejemplo, usaremos un divisor simple que divide el documento en fragmentos de tamaño fijo. Consulta [Divisores de texto](https://python.langchain.com/docs/modules/data_connection/document_transformers/) para obtener más información sobre los diferentes enfoques para dividir documentos.\n",
    "\n",
    "A modo de ejemplo, dividiremos la transcripción en fragmentos de 100 caracteres con una superposición de 20 caracteres y mostraremos los primeros fragmentos:"
   ]
  },
  {
   "cell_type": "code",
   "execution_count": null,
   "id": "003fbfaa",
   "metadata": {},
   "outputs": [],
   "source": []
  },
  {
   "cell_type": "markdown",
   "id": "04c52723",
   "metadata": {},
   "source": [
    "Para nuestra aplicación específica, utilizaremos 1000 caracteres en su lugar:"
   ]
  },
  {
   "cell_type": "code",
   "execution_count": null,
   "id": "5bdc86c6",
   "metadata": {},
   "outputs": [],
   "source": []
  },
  {
   "cell_type": "markdown",
   "id": "dd9ec49f",
   "metadata": {},
   "source": [
    "# PARTE III"
   ]
  },
  {
   "cell_type": "markdown",
   "id": "2ad8f794",
   "metadata": {},
   "source": [
    "## Configuración de un Vector Store\n",
    "\n",
    "Necesitamos una forma eficiente de almacenar fragmentos de documentos, sus Embeddings y realizar búsquedas de similitud a gran escala. Para ello, usaremos un Vector Store.\n",
    "\n",
    "Un Vector Store es una base de datos de Embeddings especializada en búsquedas rápidas de similitud.\n",
    "\n",
    "\n",
    "<img src='images/chain4.png' width=\"1200\">\n",
    "\n",
    "Necesitamos configurar un retriever (https://python.langchain.com/docs/how_to/#retrievers). Este retriever realizará una búsqueda de similitud en el almacén vectorial y devolverá los documentos más similares al siguiente paso de la cadena."
   ]
  },
  {
   "cell_type": "markdown",
   "id": "44af54dd",
   "metadata": {},
   "source": [
    "## Configurar Pinecone\n",
    "\n",
    "Para este ejemplo, usaremos [Pinecone](https://www.pinecone.io/).\n",
    "\n",
    "<img src=\"images/pinecone.png\" width=\"800\">\n",
    "\n",
    "El primer paso es crear una cuenta de Pinecone, configurar un índice, obtener una clave API y configurarla como variable de entorno `PINECONE_API_KEY`."
   ]
  },
  {
   "cell_type": "code",
   "execution_count": null,
   "id": "cb82458e",
   "metadata": {},
   "outputs": [],
   "source": []
  },
  {
   "cell_type": "markdown",
   "id": "db9d2b3e",
   "metadata": {},
   "source": [
    "Ahora ejecutemos una búsqueda de similitud en pinecone para asegurarnos de que todo funciona:"
   ]
  },
  {
   "cell_type": "code",
   "execution_count": null,
   "id": "78d3a2ca",
   "metadata": {},
   "outputs": [],
   "source": []
  },
  {
   "cell_type": "markdown",
   "id": "8c3fe01f",
   "metadata": {},
   "source": [
    "Configuremos la nueva cadena usando Pinecone como almacén vectorial:"
   ]
  },
  {
   "cell_type": "code",
   "execution_count": null,
   "id": "306d712e",
   "metadata": {},
   "outputs": [],
   "source": []
  }
 ],
 "metadata": {
  "kernelspec": {
   "display_name": "venv",
   "language": "python",
   "name": "python3"
  },
  "language_info": {
   "codemirror_mode": {
    "name": "ipython",
    "version": 3
   },
   "file_extension": ".py",
   "mimetype": "text/x-python",
   "name": "python",
   "nbconvert_exporter": "python",
   "pygments_lexer": "ipython3",
   "version": "3.12.3"
  }
 },
 "nbformat": 4,
 "nbformat_minor": 5
}
